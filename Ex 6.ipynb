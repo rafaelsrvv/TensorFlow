{
 "cells": [
  {
   "cell_type": "code",
   "execution_count": 1,
   "metadata": {},
   "outputs": [
    {
     "name": "stderr",
     "output_type": "stream",
     "text": [
      "/home/rafael/anaconda3/lib/python3.6/site-packages/tensorflow/python/framework/dtypes.py:516: FutureWarning: Passing (type, 1) or '1type' as a synonym of type is deprecated; in a future version of numpy, it will be understood as (type, (1,)) / '(1,)type'.\n",
      "  _np_qint8 = np.dtype([(\"qint8\", np.int8, 1)])\n",
      "/home/rafael/anaconda3/lib/python3.6/site-packages/tensorflow/python/framework/dtypes.py:517: FutureWarning: Passing (type, 1) or '1type' as a synonym of type is deprecated; in a future version of numpy, it will be understood as (type, (1,)) / '(1,)type'.\n",
      "  _np_quint8 = np.dtype([(\"quint8\", np.uint8, 1)])\n",
      "/home/rafael/anaconda3/lib/python3.6/site-packages/tensorflow/python/framework/dtypes.py:518: FutureWarning: Passing (type, 1) or '1type' as a synonym of type is deprecated; in a future version of numpy, it will be understood as (type, (1,)) / '(1,)type'.\n",
      "  _np_qint16 = np.dtype([(\"qint16\", np.int16, 1)])\n",
      "/home/rafael/anaconda3/lib/python3.6/site-packages/tensorflow/python/framework/dtypes.py:519: FutureWarning: Passing (type, 1) or '1type' as a synonym of type is deprecated; in a future version of numpy, it will be understood as (type, (1,)) / '(1,)type'.\n",
      "  _np_quint16 = np.dtype([(\"quint16\", np.uint16, 1)])\n",
      "/home/rafael/anaconda3/lib/python3.6/site-packages/tensorflow/python/framework/dtypes.py:520: FutureWarning: Passing (type, 1) or '1type' as a synonym of type is deprecated; in a future version of numpy, it will be understood as (type, (1,)) / '(1,)type'.\n",
      "  _np_qint32 = np.dtype([(\"qint32\", np.int32, 1)])\n",
      "/home/rafael/anaconda3/lib/python3.6/site-packages/tensorflow/python/framework/dtypes.py:525: FutureWarning: Passing (type, 1) or '1type' as a synonym of type is deprecated; in a future version of numpy, it will be understood as (type, (1,)) / '(1,)type'.\n",
      "  np_resource = np.dtype([(\"resource\", np.ubyte, 1)])\n"
     ]
    },
    {
     "name": "stdout",
     "output_type": "stream",
     "text": [
      "5.471469\n",
      "[4.167004, 6.633955, 1.5152911, 3.915895, 2.945023]\n"
     ]
    },
    {
     "name": "stderr",
     "output_type": "stream",
     "text": [
      "/home/rafael/anaconda3/lib/python3.6/site-packages/tensorboard/compat/tensorflow_stub/dtypes.py:541: FutureWarning: Passing (type, 1) or '1type' as a synonym of type is deprecated; in a future version of numpy, it will be understood as (type, (1,)) / '(1,)type'.\n",
      "  _np_qint8 = np.dtype([(\"qint8\", np.int8, 1)])\n",
      "/home/rafael/anaconda3/lib/python3.6/site-packages/tensorboard/compat/tensorflow_stub/dtypes.py:542: FutureWarning: Passing (type, 1) or '1type' as a synonym of type is deprecated; in a future version of numpy, it will be understood as (type, (1,)) / '(1,)type'.\n",
      "  _np_quint8 = np.dtype([(\"quint8\", np.uint8, 1)])\n",
      "/home/rafael/anaconda3/lib/python3.6/site-packages/tensorboard/compat/tensorflow_stub/dtypes.py:543: FutureWarning: Passing (type, 1) or '1type' as a synonym of type is deprecated; in a future version of numpy, it will be understood as (type, (1,)) / '(1,)type'.\n",
      "  _np_qint16 = np.dtype([(\"qint16\", np.int16, 1)])\n",
      "/home/rafael/anaconda3/lib/python3.6/site-packages/tensorboard/compat/tensorflow_stub/dtypes.py:544: FutureWarning: Passing (type, 1) or '1type' as a synonym of type is deprecated; in a future version of numpy, it will be understood as (type, (1,)) / '(1,)type'.\n",
      "  _np_quint16 = np.dtype([(\"quint16\", np.uint16, 1)])\n",
      "/home/rafael/anaconda3/lib/python3.6/site-packages/tensorboard/compat/tensorflow_stub/dtypes.py:545: FutureWarning: Passing (type, 1) or '1type' as a synonym of type is deprecated; in a future version of numpy, it will be understood as (type, (1,)) / '(1,)type'.\n",
      "  _np_qint32 = np.dtype([(\"qint32\", np.int32, 1)])\n",
      "/home/rafael/anaconda3/lib/python3.6/site-packages/tensorboard/compat/tensorflow_stub/dtypes.py:550: FutureWarning: Passing (type, 1) or '1type' as a synonym of type is deprecated; in a future version of numpy, it will be understood as (type, (1,)) / '(1,)type'.\n",
      "  np_resource = np.dtype([(\"resource\", np.ubyte, 1)])\n"
     ]
    }
   ],
   "source": [
    "import tensorflow as tf\n",
    "import numpy as np\n",
    "\n",
    "dados_x = np.random.randn(4,8)   # cria matriz de 4 linhas e 8 colunas com números aleatórios\n",
    "dados_w = np.random.randn(8,2)   # cria matriz de 8 linhas e 2 colunas com números aleatórios\n",
    "\n",
    "b = tf.random_normal((4,2),0,1)   # cria matriz (tensor) de 4 linhas e 2 colunas com números aleatórios\n",
    "\n",
    "x = tf.placeholder(tf.float32, shape=(4, 8))\n",
    "w = tf.placeholder(tf.float32, shape=(8, 2))\n",
    "operacao = tf.matmul(x, w) + b\n",
    "\n",
    "maximo = tf.reduce_max(operacao) # encontra o maior valor da matriz operacao\n",
    "\n",
    "with tf.Session() as sess:\n",
    "        saida1 = sess.run(operacao, feed_dict={x: dados_x, w: dados_w})\n",
    "        saida2 = sess.run(maximo, feed_dict={x: dados_x, w: dados_w}) \n",
    "\n",
    "print(saida2)\n",
    "\n",
    "import numpy as np\n",
    "\n",
    "x1 = np.random.randn(4,8)  \n",
    "w1 = np.random.randn(8,2)  \n",
    "\n",
    "x2 = np.random.randn(4,8)  \n",
    "w2 = np.random.randn(8,2)\n",
    "\n",
    "x3 = np.random.randn(10,3)  \n",
    "w3 = np.random.randn(3,1)\n",
    "\n",
    "x4 = np.random.randn(4,8)  \n",
    "w4 = np.random.randn(8,2)\n",
    "\n",
    "x5 = np.random.randn(4,8)  \n",
    "w5 = np.random.randn(8,2)\n",
    "\n",
    "lista_x = [x1, x2, x3, x4, x5]\n",
    "lista_w = [w1, w2, w3, w4, w5]\n",
    "lista_saida = []\n",
    "\n",
    "b = tf.random_normal((4,2),0,1)   # cria matriz (tensor) de 4 linhas e 2 colunas com números aleatórios\n",
    "\n",
    "x = tf.placeholder(tf.float32, shape=(None, None))\n",
    "w = tf.placeholder(tf.float32, shape=(None, None))\n",
    "operacao = tf.matmul(x, w)\n",
    "\n",
    "maximo = tf.reduce_max(operacao) # encontra o maior valor da matriz operacao\n",
    "\n",
    "with tf.Session() as sess:\n",
    "    for i in range(5):\n",
    "        saida = sess.run(maximo, feed_dict={x: lista_x[i], w: lista_w[i]})\n",
    "        lista_saida.append(saida)\n",
    "print(lista_saida) "
   ]
  },
  {
   "cell_type": "code",
   "execution_count": null,
   "metadata": {
    "collapsed": true
   },
   "outputs": [],
   "source": []
  }
 ],
 "metadata": {
  "kernelspec": {
   "display_name": "Python 3",
   "language": "python",
   "name": "python3"
  },
  "language_info": {
   "codemirror_mode": {
    "name": "ipython",
    "version": 3
   },
   "file_extension": ".py",
   "mimetype": "text/x-python",
   "name": "python",
   "nbconvert_exporter": "python",
   "pygments_lexer": "ipython3",
   "version": "3.6.3"
  }
 },
 "nbformat": 4,
 "nbformat_minor": 2
}
